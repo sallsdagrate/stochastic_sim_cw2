{
 "cells": [
  {
   "cell_type": "code",
   "execution_count": 1,
   "id": "e158c400-c597-403d-8c8a-83486d940b20",
   "metadata": {},
   "outputs": [],
   "source": [
    "from scipy import stats\n",
    "import numpy as np\n",
    "from matplotlib import pyplot as plt\n",
    "from tqdm.notebook import trange, tqdm\n",
    "import pandas as pd"
   ]
  },
  {
   "cell_type": "code",
   "execution_count": 2,
   "id": "0a0c5921-e2ae-4d01-8c73-fbef0af9e6ca",
   "metadata": {},
   "outputs": [],
   "source": [
    "def grad_log_prior(x):\n",
    "    # Means in the GMM\n",
    "    means = np.array([\n",
    "        [4, 0], [0, 4], [-4, 0], [0, -4], \n",
    "        [4, 4], [4, -4], [-4, 4], [-4, -4], [0, 0]\n",
    "    ])\n",
    "    sigma = np.sqrt(0.1)\n",
    "\n",
    "    # Precompute constants for Gaussian multivariate normal PDFs\n",
    "    cov = (sigma**2) * np.eye(2)\n",
    "    gaussian_pdfs = np.array([stats.multivariate_normal.pdf(x, mean=mean, cov=cov) for mean in means])\n",
    "\n",
    "    # Compute gradients of each of the mixture elements\n",
    "    grad_components = np.array([x - mean for mean in means])\n",
    "    weighted_grads = gaussian_pdfs[:, None] * grad_components\n",
    "\n",
    "    # Sum over all Gaussians and normalize by the total probability\n",
    "    epsilon = 1e-12\n",
    "    sum_priors = np.sum(gaussian_pdfs)\n",
    "    grad = (-1 / (sigma**2)) * np.sum(weighted_grads, axis=0) / (sum_priors + epsilon)\n",
    "\n",
    "    grad_x, grad_y = grad\n",
    "    return grad_x, grad_y\n",
    "    # return np.array([grad_x, grad_y])\n",
    "\n",
    "# Gradient of the log-posterior density p(x|y)\n",
    "def grad_log_posterior(x):\n",
    "    sigma = np.sqrt(2)\n",
    "    y = 0  # Observation\n",
    "\n",
    "    # Gradient of the log-likelihood\n",
    "    grad_log_likelihood_xy = (-1 / (sigma**2)) * (np.sum(x) - y)\n",
    "    grad_x, grad_y = grad_log_prior(x)\n",
    "    return grad_x, grad_y\n",
    "    return np.array(grad_x + grad_log_likelihood_xy, grad_y + grad_log_likelihood_xy)\n",
    "    \n",
    "def gmm_langevin_proposal(v, m, step_size):\n",
    "    g1, g2 = grad_log_posterior(v)\n",
    "    g = np.array([g1, g2])\n",
    "    s = step_size\n",
    "    return np.random.multivariate_normal(mean=v + (s * g), cov=2 * s * np.identity(2))\n",
    "\n",
    "def gmm_langevin_pdf(v1, v, step_size):\n",
    "    # probability of going from x -> x1 given langevin proposals\n",
    "    g1, g2 = grad_log_posterior(v)\n",
    "    g = np.array([g1, g2])\n",
    "    s = step_size\n",
    "    return stats.multivariate_normal.pdf(v1, mean=v + (s * g), cov=2 * s * np.identity(2))\n",
    "\n",
    "def prior_pdf(x, m, s0_sq):\n",
    "    return np.mean([stats.multivariate_normal.pdf(x, mean=mu, cov=s0_sq * np.identity(2)) for mu in m])\n",
    "\n",
    "def likelihood_pdf(y, x, s_sq):\n",
    "    return stats.norm.pdf(y, loc=np.sum(x), scale=s_sq)\n",
    "\n",
    "def adjusted_posterior(x, y, step):\n",
    "    g_y_d1, g_y_d2 = grad_log_posterior(y)\n",
    "\n",
    "    q_dim_1 = stats.norm.pdf(x[0], loc=y[0] + step * g_y_d1, scale=np.sqrt(2 * step))\n",
    "    q_dim_2 = stats.norm.pdf(x[1], loc=y[1] + step * g_y_d2, scale=np.sqrt(2 * step))\n",
    "    \n",
    "    return q_dim_1 * q_dim_2\n",
    "    \n",
    "def mala_mh_posterior(m, s_sq, s0_sq, step_size, N=100000, epsilon=10e-9):\n",
    "    v = np.array([0, 0], dtype=np.float64)\n",
    "    \n",
    "    v_samples = []\n",
    "    accepted_samples = 0\n",
    "    \n",
    "    progress_bar = tqdm(total=N, leave=True)\n",
    "    while len(v_samples) < N:\n",
    "        v1 = gmm_langevin_proposal(v, m, step_size)\n",
    "        y = 0\n",
    "        \n",
    "        original = prior_pdf(v, m, s0_sq) * likelihood_pdf(y, v, s_sq)\n",
    "        proposal = prior_pdf(v1, m, s0_sq) * likelihood_pdf(y, v1, s_sq)\n",
    "        \n",
    "        a = min(\n",
    "            1,\n",
    "            (proposal * adjusted_posterior(v, v1, step_size)) /\n",
    "            (original * adjusted_posterior(v1, v, step_size))\n",
    "        )\n",
    "        \n",
    "\n",
    "        if np.random.uniform() < a:\n",
    "            v = v1\n",
    "            accepted_samples += 1\n",
    "\n",
    "        v_samples.append(v)\n",
    "        progress_bar.update(1)\n",
    "\n",
    "    # Compute acceptance rate\n",
    "    acceptance_rate = accepted_samples / N\n",
    "    print(f\"Acceptance rate: {acceptance_rate:.2f}\")\n",
    "\n",
    "    v_samples = np.array(v_samples)\n",
    "    return v_samples[:, 0], v_samples[:, 1]"
   ]
  },
  {
   "cell_type": "code",
   "execution_count": 5,
   "id": "9410e57a-927d-41c3-b6ca-c1fc761ec515",
   "metadata": {},
   "outputs": [
    {
     "data": {
      "application/vnd.jupyter.widget-view+json": {
       "model_id": "45afc04b57114bfb9fc310b81b0f4108",
       "version_major": 2,
       "version_minor": 0
      },
      "text/plain": [
       "  0%|          | 0/20000 [00:00<?, ?it/s]"
      ]
     },
     "metadata": {},
     "output_type": "display_data"
    },
    {
     "name": "stdout",
     "output_type": "stream",
     "text": [
      "Acceptance rate: 0.35\n"
     ]
    }
   ],
   "source": [
    "m = np.array([[4, 0], [0, 4], [-4, 0], [0, -4], [4, 4], [4, -4], [-4, 4], [-4, -4], [0, 0]])\n",
    "s0_sq = 0.1\n",
    "s_sq = 2\n",
    "y = 0\n",
    "\n",
    "mala_x, mala_y = mala_mh_posterior(m, s_sq, s0_sq, step_size=0.18, N=20000)"
   ]
  },
  {
   "cell_type": "code",
   "execution_count": 6,
   "id": "1e652680-d90e-44a2-af4e-dfc41ede2797",
   "metadata": {},
   "outputs": [
    {
     "data": {
      "image/png": "[encoded data removed]",
      "text/plain": [
       "<Figure size 640x480 with 1 Axes>"
      ]
     },
     "metadata": {},
     "output_type": "display_data"
    },
    {
     "data": {
      "image/png": "[encoded data removed]",
      "text/plain": [
       "<Figure size 1200x400 with 2 Axes>"
      ]
     },
     "metadata": {},
     "output_type": "display_data"
    }
   ],
   "source": [
    "burnin = 10000\n",
    "plt.hist2d(mala_x[burnin:], mala_y[burnin:], bins=100, cmap='viridis', range=[[-6, 6], [-6, 6]])\n",
    "plt.show()\n",
    "fig, ax = plt.subplots(ncols=2, nrows=1, figsize=(12, 4))\n",
    "ax[0].plot(mala_x[burnin:])\n",
    "ax[0].set_ylim((-6, 6))\n",
    "ax[0].set_title('x trace plot')\n",
    "ax[1].plot(mala_y[burnin:])\n",
    "ax[1].set_ylim((-6, 6))\n",
    "ax[1].set_title('y trace plot')\n",
    "fig.supxlabel('n iters')\n",
    "plt.show()"
   ]
  },
  {
   "cell_type": "code",
   "execution_count": 23,
   "id": "b288f7aa-4605-4d5b-92c4-31461535b216",
   "metadata": {},
   "outputs": [
    {
     "data": {
      "text/plain": [
       "[array([14.99999992, 14.        ]),\n",
       " array([14.99999992, 14.        ]),\n",
       " array([14.99999992, 14.        ])]"
      ]
     },
     "execution_count": 23,
     "metadata": {},
     "output_type": "execute_result"
    }
   ],
   "source": [
    "# Define the log-gradient for prior\n",
    "def grad_log_prior_1(x, mus, sigma2=0.1):\n",
    "    \"\"\"Return the value of the grad of log-prior at x1, x2 given mus and sigma\"\"\"\n",
    "    \n",
    "    # Compute differences and squared distances\n",
    "    diffs = x - mus  # (9, 2)\n",
    "    sq_dists = np.sum(diffs**2, axis=1)  # (9,)\n",
    "    # Compute weights = exp(-||x - mu_i||² / (2 * sigma²))\n",
    "    weights = np.exp(-sq_dists / (2 * sigma2))  # Shape: (9,)\n",
    "    # Weighted sum of (x - mu_i)\n",
    "    weighted_sum = np.sum(diffs * weights[:, np.newaxis], axis=0)  # Shape: (2,)\n",
    "    # Denominator = sum of weights\n",
    "    denom = np.sum(weights)\n",
    "    # Gradient of log-prior\n",
    "    grad = -(1.0 / sigma2) * (weighted_sum / denom)\n",
    "    \n",
    "    return grad\n",
    "\n",
    "def grad_log_prior_2(x):\n",
    "    # Means in the GMM\n",
    "    means = np.array([\n",
    "        [4, 0], [0, 4], [-4, 0], [0, -4], \n",
    "        [4, 4], [4, -4], [-4, 4], [-4, -4], [0, 0]\n",
    "    ])\n",
    "    sigma = np.sqrt(0.1)\n",
    "\n",
    "    # Precompute constants for Gaussian multivariate normal PDFs\n",
    "    cov = (sigma**2) * np.eye(2)\n",
    "    gaussian_pdfs = np.array([stats.multivariate_normal.pdf(x, mean=mean, cov=cov) for mean in means])\n",
    "\n",
    "    # Compute gradients of each of the mixture elements\n",
    "    grad_components = np.array([x - mean for mean in means])\n",
    "    weighted_grads = gaussian_pdfs[:, None] * grad_components\n",
    "\n",
    "    # Sum over all Gaussians and normalize by the total probability\n",
    "    epsilon = 0\n",
    "    sum_priors = np.sum(gaussian_pdfs)\n",
    "    grad = (-1 / (sigma**2)) * np.sum(weighted_grads, axis=0) / (sum_priors + epsilon)\n",
    "\n",
    "    return grad\n",
    "\n",
    "def grad_log_prior_3(x, m, s0_sq=0.1):\n",
    "    w = np.array([np.exp(np.sum((x - mu)**2) / (-2*s0_sq)) for mu in m])\n",
    "    return -np.sum(w[:, None] * (x - m), axis=0) / (s0_sq * np.sum(w))\n",
    "\n",
    "\n",
    "mm = np.array([\n",
    "        [4, 0], [0, 4], [-4, 0], [0, -4], \n",
    "        [4, 4], [4, -4], [-4, 4], [-4, -4], [0, 0]\n",
    "    ])\n",
    "x = np.array([2.5, -1.4])\n",
    "\n",
    "[grad_log_prior_1(x, mm), grad_log_prior_2(x), grad_log_prior_3(x, mm)]"
   ]
  },
  {
   "cell_type": "code",
   "execution_count": 33,
   "id": "45db7fb2-89ca-49b6-825e-87b21935683a",
   "metadata": {},
   "outputs": [],
   "source": [
    "def grad_log_likelihood_1(y, x1, x2, sigma2=2):\n",
    "    \"\"\"Return the value of grad of log-prior at y given x1, x2 and sigma2.\"\"\"\n",
    "    print( (y - x1 - x2)/sigma2)\n",
    "    return (y - x1 - x2)/sigma2"
   ]
  },
  {
   "cell_type": "code",
   "execution_count": 47,
   "id": "bdca8038-5a23-4d51-bb09-47166aea26dd",
   "metadata": {},
   "outputs": [
    {
     "name": "stdout",
     "output_type": "stream",
     "text": [
      "-0.55\n",
      "[-0.55 -0.55]\n"
     ]
    },
    {
     "data": {
      "text/plain": [
       "[array([14.44999992, 13.45      ]),\n",
       " array([14.44999992, 13.45      ]),\n",
       " array([14.44999992, 13.45      ])]"
      ]
     },
     "execution_count": 47,
     "metadata": {},
     "output_type": "execute_result"
    }
   ],
   "source": [
    "def grad_log_posterior_1(x, y, mus):\n",
    "    \"\"\"Return the value of the grad of log-posterior at x1, x2 using the sum of \\\n",
    "        the previous 2 functions as input y and mus. \"\"\"\n",
    "    return grad_log_prior_1(x, mus) + grad_log_likelihood_1(y, x[0], x[1])\n",
    "\n",
    "# Gradient of the log-posterior density p(x|y)\n",
    "def grad_log_posterior_2(x):\n",
    "    sigma = np.sqrt(2)\n",
    "    y = 0  # Observation\n",
    "\n",
    "    # Gradient of the log-likelihood\n",
    "    grad_log_likelihood_xy = (-1 / (sigma**2)) * (np.sum(x) - y)\n",
    "    grad_x, grad_y = grad_log_prior_2(x)\n",
    "    return np.array([grad_x + grad_log_likelihood_xy, grad_y + grad_log_likelihood_xy])\n",
    "\n",
    "def grad_log_posterior_3(x, m, s0_sq=0.1, s_sq=2, H=np.array([1, 1]), y=0):\n",
    "    grad_lp = grad_log_prior_3(x, m, s0_sq)\n",
    "    grad_log_likelihood = ((y - H.dot(x)) / s_sq) * H # MINUS ON THE s_sq\n",
    "    print(grad_log_likelihood)\n",
    "    return grad_lp + grad_log_likelihood\n",
    "\n",
    "[grad_log_posterior_1(x, 0, mm), grad_log_posterior_2(x), grad_log_posterior_3(x, mm)]"
   ]
  },
  {
   "cell_type": "code",
   "execution_count": 61,
   "id": "647ab346-af5f-438a-9b9c-5439e5dda8a6",
   "metadata": {},
   "outputs": [
    {
     "data": {
      "text/plain": [
       "[0.20845916182286442, 0.2084591618228644]"
      ]
     },
     "execution_count": 61,
     "metadata": {},
     "output_type": "execute_result"
    }
   ],
   "source": [
    "# Define the likelihood function\n",
    "def likelihood_1(y, x, sigma2=2):\n",
    "    \"\"\"Return the likelihood of observing y given x1 and x2 with variance sigma.\"\"\"\n",
    "    return np.exp(-((y - x[0] - x[1])**2)/(2 * sigma2)) / np.sqrt(2 * np.pi * sigma2)\n",
    "    \n",
    "def likelihood_3(y, x, s_sq=2):\n",
    "    return stats.norm.pdf(y, loc=np.sum(x), scale=np.sqrt(s_sq))\n",
    "\n",
    "x = np.array([2.5, -1.4])\n",
    "\n",
    "[likelihood_1(y, x), likelihood_3(y, x)]"
   ]
  },
  {
   "cell_type": "code",
   "execution_count": 69,
   "id": "1c09c37e-f715-4aa2-8e28-962b58eb52af",
   "metadata": {},
   "outputs": [
    {
     "data": {
      "text/plain": [
       "[1.2754950544982775e-10, 1.2754950544982736e-10]"
      ]
     },
     "execution_count": 69,
     "metadata": {},
     "output_type": "execute_result"
    }
   ],
   "source": [
    "# Define the GMM prior\n",
    "def prior_1(x1, x2, mus, sigma2=0.1):\n",
    "    \"\"\"Calculate the GMM prior probability for given x1, x2 using mus and sigma.\"\"\"\n",
    "\n",
    "    # Initialise prob \n",
    "    prob = 0.\n",
    "\n",
    "    # Calculate each GMM prior\n",
    "    for mu1, mu2 in mus:\n",
    "        # print(mu1, mu2)\n",
    "        # Find the probability for x1\n",
    "        p1 = np.exp(-((x1 - mu1) ** 2)/(2 * sigma2))\n",
    "        # Find the probabiblity for x2\n",
    "        p2 = np.exp(-((x2 - mu2) ** 2)/(2 * sigma2))\n",
    "\n",
    "        prob += (p1 * p2) / (2 * np.pi * sigma2)\n",
    "    \n",
    "    return prob/9\n",
    "\n",
    "def prior_3(x, m, s0_sq=0.1):\n",
    "    return np.mean([stats.multivariate_normal.pdf(x, mean=mu, cov=s0_sq * np.identity(2)) for mu in m])\n",
    "\n",
    "[prior_1(x[0], x[1], mm), prior_3(x, mm)]"
   ]
  },
  {
   "cell_type": "code",
   "execution_count": null,
   "id": "c95f0cc7-2773-459a-8611-60a356692902",
   "metadata": {},
   "outputs": [],
   "source": []
  }
 ],
 "metadata": {
  "kernelspec": {
   "display_name": "Python 3 (ipykernel)",
   "language": "python",
   "name": "python3"
  },
  "language_info": {
   "codemirror_mode": {
    "name": "ipython",
    "version": 3
   },
   "file_extension": ".py",
   "mimetype": "text/x-python",
   "name": "python",
   "nbconvert_exporter": "python",
   "pygments_lexer": "ipython3",
   "version": "3.12.3"
  }
 },
 "nbformat": 4,
 "nbformat_minor": 5
}
