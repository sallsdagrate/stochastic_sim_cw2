{
 "cells": [
  {
   "cell_type": "code",
   "execution_count": 91,
   "id": "99ee9dae-b441-494c-8076-dca325be1e7e",
   "metadata": {},
   "outputs": [],
   "source": [
    "import numpy as np\n",
    "from tqdm.notebook import trange\n",
    "from matplotlib import pyplot as plt\n",
    "import scipy.stats as stats"
   ]
  },
  {
   "cell_type": "code",
   "execution_count": 107,
   "id": "40e36009-6423-4198-88ff-3983365e0fad",
   "metadata": {},
   "outputs": [],
   "source": [
    "np.random.seed(42)"
   ]
  },
  {
   "cell_type": "code",
   "execution_count": 109,
   "id": "97c30cb0-14d9-46ec-90b6-da633d7cb3fe",
   "metadata": {},
   "outputs": [
    {
     "data": {
      "text/plain": [
       "0.3745401188473625"
      ]
     },
     "execution_count": 109,
     "metadata": {},
     "output_type": "execute_result"
    }
   ],
   "source": [
    "np.random.random()"
   ]
  },
  {
   "cell_type": "code",
   "execution_count": 141,
   "id": "d20275af-56ea-4873-844d-2bdff39a73be",
   "metadata": {},
   "outputs": [],
   "source": [
    "# Define the GMM prior\n",
    "def GMM_prior(x, mus, sigma2=0.1):\n",
    "    \"\"\"Calculate the GMM prior probability for given x1, x2 using mus and sigma.\"\"\"\n",
    "    prob = 0.\n",
    "    for mu1, mu2 in mus:\n",
    "        p1, p2 = np.exp(-((x[0] - mu1) ** 2)/(2 * sigma2)), np.exp(-((x[1] - mu2) ** 2)/(2 * sigma2))\n",
    "        prob += (p1 * p2) / (2 * np.pi * sigma2)\n",
    "    return prob/9\n",
    "    \n",
    "# Define the likelihood function\n",
    "def likelihood(y, x, s_sq=2):\n",
    "    \"\"\"Return the likelihood of observing y given x1 and x2 with variance sigma.\"\"\"\n",
    "    return np.exp(-((y - x[0] - x[1])**2)/(2 * s_sq)) / np.sqrt(2 * np.pi * s_sq)\n",
    "\n",
    "def grad_log_prior(x, m, s0_sq=0.1):\n",
    "    w = np.array([np.exp(np.sum((x - mu)**2) / (-2*s0_sq)) for mu in m])\n",
    "    return -np.sum(w[:, None] * (x - m), axis=0) / (s0_sq * np.sum(w))\n",
    "\n",
    "\n",
    "# Define the function to calculate the graedient of the log-likelihood.\n",
    "def grad_log_likelihood(y, x1, x2, sigma2=2):\n",
    "    \"\"\"Return the value of grad of log-prior at y given x1, x2 and sigma2.\"\"\"\n",
    "    return (y - x1 - x2)/sigma2\n",
    "\n",
    "# Define the function to calcualte the gradient of the log-posterior.\n",
    "def grad_log_posterior(x1, x2, y, mus):\n",
    "    \"\"\"Return the value of the grad of log-posterior at x1, x2 using the sum of \\\n",
    "        the previous 2 functions as input y and mus. \"\"\"\n",
    "    return grad_log_prior(np.array([x1, x2]), mus) + grad_log_likelihood(y, x1, x2)\n",
    "    \n",
    "# Def posterior\n",
    "def log_posterior(x1, x2, y, mus):\n",
    "    x = np.array([x1, x2])\n",
    "    \"\"\"Return the log-posterior of at x1, x2 given y, mus.\"\"\"\n",
    "    return np.log(GMM_prior(x, mus) * likelihood(y, x))\n",
    "\n",
    "# Implement MALA\n",
    "def MALA_sampler(y, N, burnin, mus, gamma=0.15):\n",
    "    \"\"\"\n",
    "    Metropolis Adjusted Langevin Algorithm (MALA) to sample from posterior:\n",
    "    p(x|y) ∝ p(y|x) p(x)\n",
    "\n",
    "    Parameters\n",
    "    ----------\n",
    "    y : float\n",
    "        Observed data point.\n",
    "    N : int\n",
    "        Number of MCMC iterations.\n",
    "    burnin : int\n",
    "        Number of burnin samples.\n",
    "    mus : np.ndarray\n",
    "        (9,2) array of component means for GMM prior.\n",
    "    gamma : float\n",
    "        Step-size for MALA.\n",
    "\n",
    "    Returns\n",
    "    -------\n",
    "    samples : np.ndarray\n",
    "        Array of shape (N, 2) with MCMC samples.\n",
    "    accept_rate : float\n",
    "        Acceptance rate of MALA proposals.\n",
    "    \"\"\"\n",
    "    # Initialise at 0, 0\n",
    "    samples = np.zeros((N+burnin, 2))\n",
    "    accepts = 0\n",
    "\n",
    "    for t in trange(1, N+burnin):\n",
    "        x_curr = samples[t-1]\n",
    "        grad_curr = grad_log_posterior(x_curr[0], x_curr[1], y, mus)\n",
    "\n",
    "        # Make proposal\n",
    "        x_prop = np.random.multivariate_normal(x_curr + gamma * grad_curr, 2 * gamma * np.eye(2))\n",
    "        print(x_prop)\n",
    "        # Compute log-posterior at current and proposed\n",
    "        log_post_curr = log_posterior(x_curr[0], x_curr[1], y, mus)\n",
    "        log_post_prop = log_posterior(x_prop[0], x_prop[1], y, mus)\n",
    "        print(log_post_curr, log_post_prop)\n",
    "\n",
    "        # Compute grad at proposed\n",
    "        grad_prop = grad_log_posterior(x_prop[0], x_prop[1], y, mus)\n",
    "        print(grad_curr, grad_prop)\n",
    "        \n",
    "        # calculate q(x_prop|x_curr)\n",
    "        diff_prop = x_prop - (x_curr + gamma * grad_curr)\n",
    "        log_q_prop = -np.sum(diff_prop**2)/(4*gamma)\n",
    "\n",
    "        # Calculate q(x_curr | x_prop)\n",
    "        diff_curr = x_curr - (x_prop + gamma * grad_prop)\n",
    "        log_q_curr = -np.sum(diff_curr**2)/(4 * gamma)\n",
    "\n",
    "        print(log_q_curr, log_q_prop)\n",
    "        \n",
    "        # Acceptance probability\n",
    "        log_alpha = (log_post_prop - log_post_curr) + (log_q_prop - log_q_curr)\n",
    "        print(log_alpha)\n",
    "        alpha = np.exp(log_alpha)\n",
    "\n",
    "        u = np.random.rand()\n",
    "        if u < alpha:\n",
    "            samples[t] = x_prop\n",
    "            accepts += 1\n",
    "        else:\n",
    "            samples[t] = x_curr\n",
    "\n",
    "    accept_rate = accepts / (N+burnin-1)\n",
    "    return samples[burnin:,:], accept_rate"
   ]
  },
  {
   "cell_type": "code",
   "execution_count": 143,
   "id": "c26ea4ec-4dcc-4d26-96e2-52996f8ceac9",
   "metadata": {},
   "outputs": [
    {
     "data": {
      "application/vnd.jupyter.widget-view+json": {
       "model_id": "c5e96da907bc43498731a4ebf40af75c",
       "version_major": 2,
       "version_minor": 0
      },
      "text/plain": [
       "  0%|          | 0/9 [00:00<?, ?it/s]"
      ]
     },
     "metadata": {},
     "output_type": "display_data"
    },
    {
     "name": "stdout",
     "output_type": "stream",
     "text": [
      "[ 0.27206155 -0.07573048]\n",
      "-2.9980286742361644 -3.406428096627509\n",
      "[0. 0.] [-2.818781    0.65913923]\n",
      "-0.03877121737475682 -0.13292098339001113\n",
      "-0.502549188406599\n",
      "[-0.60900182  0.17466992]\n",
      "-2.9980286742361644 -5.0521537249071065\n",
      "[0. 0.] [ 6.30718417 -1.52953325]\n",
      "-0.19436460390886642 -0.6689880001538476\n",
      "-2.528748446915923\n",
      "[0.86497048 0.42034131]\n",
      "-2.9980286742361644 -8.03533904690985\n",
      "[0. 0.] [-9.29236072 -4.84606902]\n",
      "-0.6228374439099437 -1.5414345900863904\n",
      "-5.955907518850133\n",
      "[-0.31816006 -0.28764735]\n",
      "-2.9980286742361644 -4.009613427291157\n",
      "[0. 0.] [3.48450428 3.1793772 ]\n",
      "-0.12940946744996792 -0.3066113664790867\n",
      "-1.1887866520841115\n",
      "[ 0.33704378 -0.85868752]\n",
      "-4.009613427291157 -7.320770535394682\n",
      "[3.48450428 3.1793772 ] [-3.10961591  8.84769705]\n",
      "-1.0122330909675212 -1.859593517729599\n",
      "-4.158517534865602\n",
      "[ 0.65170097 -0.64540203]\n",
      "-4.009613427291157 -7.20432826771764\n",
      "[3.48450428 3.1793772 ] [-6.52015919  6.45087081]\n",
      "-0.6200254971360115 -1.4943903131596779\n",
      "-4.06907965645015\n",
      "[-0.29282968 -0.58429136]\n",
      "-4.009613427291157 -5.326092124461162\n",
      "[3.48450428 3.1793772 ] [3.36685737 6.28147417]\n",
      "-1.1634174202128302 -1.409554733265757\n",
      "-1.562616010222932\n",
      "[-0.14026205  0.51664421]\n",
      "-4.009613427291157 -4.466417988130644\n",
      "[3.48450428 3.1793772 ] [ 1.21442943 -5.35463321]\n",
      "-0.21607691549137065 -0.37675424149840675\n",
      "-0.6174818868465229\n",
      "[-0.25626833 -0.22579596]\n",
      "-4.466417988130644 -3.639411555296268\n",
      "[ 1.21442943 -5.35463321] [2.8037155  2.49899179]\n",
      "-0.37979130068159395 -0.1543281858347021\n",
      "1.0524695476812678\n"
     ]
    }
   ],
   "source": [
    "mus = np.array([[4, 0], [0, 4], [-4, 0], [0, -4], [4, 4], [4, -4], [-4, 4], [-4, -4], [0, 0]])\n",
    "y = 0\n",
    "N=10\n",
    "burnin=0\n",
    "\n",
    "np.random.seed(42)\n",
    "samples, acc = MALA_sampler(y, N, burnin, mus)"
   ]
  },
  {
   "cell_type": "code",
   "execution_count": 145,
   "id": "eaf9121c-c801-44a8-8630-22a2a2979dd8",
   "metadata": {},
   "outputs": [
    {
     "data": {
      "image/png": "[encoded data removed]",
      "text/plain": [
       "<Figure size 640x480 with 1 Axes>"
      ]
     },
     "metadata": {},
     "output_type": "display_data"
    },
    {
     "data": {
      "text/plain": [
       "(None, 0.3333333333333333)"
      ]
     },
     "execution_count": 145,
     "metadata": {},
     "output_type": "execute_result"
    }
   ],
   "source": [
    "plt.scatter(samples[:, 0], samples[:, 1], s=2)\n",
    "plt.xlim(-6, 6)\n",
    "plt.ylim(-6, 6)\n",
    "plt.show(), acc"
   ]
  },
  {
   "cell_type": "code",
   "execution_count": null,
   "id": "cb9c21a4-40de-45f5-a981-332a54f3d56d",
   "metadata": {},
   "outputs": [],
   "source": []
  },
  {
   "cell_type": "code",
   "execution_count": null,
   "id": "7749f01b-70f0-44c6-921b-e518acfa1b69",
   "metadata": {},
   "outputs": [],
   "source": []
  }
 ],
 "metadata": {
  "kernelspec": {
   "display_name": "Python 3 (ipykernel)",
   "language": "python",
   "name": "python3"
  },
  "language_info": {
   "codemirror_mode": {
    "name": "ipython",
    "version": 3
   },
   "file_extension": ".py",
   "mimetype": "text/x-python",
   "name": "python",
   "nbconvert_exporter": "python",
   "pygments_lexer": "ipython3",
   "version": "3.12.3"
  }
 },
 "nbformat": 4,
 "nbformat_minor": 5
}
